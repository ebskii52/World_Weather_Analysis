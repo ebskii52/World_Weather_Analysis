{
 "cells": [
  {
   "cell_type": "code",
   "execution_count": 1,
   "metadata": {},
   "outputs": [],
   "source": [
    "## Import the dependencies.\n",
    "import pandas as pd\n",
    "import gmaps\n",
    "import requests\n",
    "# Import the API key.\n",
    "from config import g_key\n"
   ]
  },
  {
   "cell_type": "code",
   "execution_count": 2,
   "metadata": {},
   "outputs": [
    {
     "data": {
      "text/html": [
       "<div>\n",
       "<style scoped>\n",
       "    .dataframe tbody tr th:only-of-type {\n",
       "        vertical-align: middle;\n",
       "    }\n",
       "\n",
       "    .dataframe tbody tr th {\n",
       "        vertical-align: top;\n",
       "    }\n",
       "\n",
       "    .dataframe thead th {\n",
       "        text-align: right;\n",
       "    }\n",
       "</style>\n",
       "<table border=\"1\" class=\"dataframe\">\n",
       "  <thead>\n",
       "    <tr style=\"text-align: right;\">\n",
       "      <th></th>\n",
       "      <th>City_ID</th>\n",
       "      <th>City</th>\n",
       "      <th>Country</th>\n",
       "      <th>Max Temp</th>\n",
       "      <th>Current Description</th>\n",
       "      <th>Lat</th>\n",
       "      <th>Lng</th>\n",
       "      <th>Hotel Name</th>\n",
       "    </tr>\n",
       "  </thead>\n",
       "  <tbody>\n",
       "    <tr>\n",
       "      <td>7</td>\n",
       "      <td>8</td>\n",
       "      <td>Souillac</td>\n",
       "      <td>FR</td>\n",
       "      <td>48.20</td>\n",
       "      <td>overcast clouds</td>\n",
       "      <td>45.60</td>\n",
       "      <td>-0.60</td>\n",
       "      <td>Jolysable</td>\n",
       "    </tr>\n",
       "    <tr>\n",
       "      <td>32</td>\n",
       "      <td>50</td>\n",
       "      <td>Veraval</td>\n",
       "      <td>FR</td>\n",
       "      <td>42.80</td>\n",
       "      <td>fog</td>\n",
       "      <td>49.65</td>\n",
       "      <td>0.71</td>\n",
       "      <td>Le Manoir aux Vaches</td>\n",
       "    </tr>\n",
       "    <tr>\n",
       "      <td>38</td>\n",
       "      <td>60</td>\n",
       "      <td>Saint-Pierre</td>\n",
       "      <td>FR</td>\n",
       "      <td>37.99</td>\n",
       "      <td>light rain</td>\n",
       "      <td>48.95</td>\n",
       "      <td>4.24</td>\n",
       "      <td>Auberge des Moissons</td>\n",
       "    </tr>\n",
       "    <tr>\n",
       "      <td>108</td>\n",
       "      <td>157</td>\n",
       "      <td>Ronne</td>\n",
       "      <td>FR</td>\n",
       "      <td>46.40</td>\n",
       "      <td>drizzle</td>\n",
       "      <td>48.45</td>\n",
       "      <td>0.83</td>\n",
       "      <td>Côté Parc</td>\n",
       "    </tr>\n",
       "    <tr>\n",
       "      <td>222</td>\n",
       "      <td>316</td>\n",
       "      <td>Estelle</td>\n",
       "      <td>FR</td>\n",
       "      <td>37.40</td>\n",
       "      <td>overcast clouds</td>\n",
       "      <td>43.97</td>\n",
       "      <td>3.47</td>\n",
       "      <td>Gîte du Moulin</td>\n",
       "    </tr>\n",
       "  </tbody>\n",
       "</table>\n",
       "</div>"
      ],
      "text/plain": [
       "     City_ID          City Country  Max Temp Current Description    Lat   Lng  \\\n",
       "7          8      Souillac      FR     48.20     overcast clouds  45.60 -0.60   \n",
       "32        50       Veraval      FR     42.80                 fog  49.65  0.71   \n",
       "38        60  Saint-Pierre      FR     37.99          light rain  48.95  4.24   \n",
       "108      157         Ronne      FR     46.40             drizzle  48.45  0.83   \n",
       "222      316       Estelle      FR     37.40     overcast clouds  43.97  3.47   \n",
       "\n",
       "               Hotel Name  \n",
       "7               Jolysable  \n",
       "32   Le Manoir aux Vaches  \n",
       "38   Auberge des Moissons  \n",
       "108             Côté Parc  \n",
       "222        Gîte du Moulin  "
      ]
     },
     "execution_count": 2,
     "metadata": {},
     "output_type": "execute_result"
    }
   ],
   "source": [
    "# Store the CSV you saved created in part one into a DataFrame.\n",
    "vacation_weather_df = pd.read_csv(\"weather_data/WeatherPy_vacation.csv\")\n",
    "#vacation_weather_df.rename(columns={\"Rain Inches (last 3hours)\":\"RainInches\", \"Snow Inches (last 3hours)\":\"SnowInches\"}, inplace=True)\n",
    "vacation_weather_df[vacation_weather_df[\"Country\"] == \"FR\"].head(10)\n"
   ]
  },
  {
   "cell_type": "code",
   "execution_count": 33,
   "metadata": {},
   "outputs": [
    {
     "data": {
      "text/html": [
       "<div>\n",
       "<style scoped>\n",
       "    .dataframe tbody tr th:only-of-type {\n",
       "        vertical-align: middle;\n",
       "    }\n",
       "\n",
       "    .dataframe tbody tr th {\n",
       "        vertical-align: top;\n",
       "    }\n",
       "\n",
       "    .dataframe thead th {\n",
       "        text-align: right;\n",
       "    }\n",
       "</style>\n",
       "<table border=\"1\" class=\"dataframe\">\n",
       "  <thead>\n",
       "    <tr style=\"text-align: right;\">\n",
       "      <th></th>\n",
       "      <th>City_ID</th>\n",
       "      <th>City</th>\n",
       "      <th>Country</th>\n",
       "      <th>Max Temp</th>\n",
       "      <th>Current Description</th>\n",
       "      <th>Lat</th>\n",
       "      <th>Lng</th>\n",
       "      <th>Hotel Name</th>\n",
       "    </tr>\n",
       "  </thead>\n",
       "  <tbody>\n",
       "    <tr>\n",
       "      <td>7</td>\n",
       "      <td>8</td>\n",
       "      <td>Souillac</td>\n",
       "      <td>FR</td>\n",
       "      <td>48.20</td>\n",
       "      <td>overcast clouds</td>\n",
       "      <td>45.60</td>\n",
       "      <td>-0.60</td>\n",
       "      <td>Jolysable</td>\n",
       "    </tr>\n",
       "    <tr>\n",
       "      <td>32</td>\n",
       "      <td>50</td>\n",
       "      <td>Veraval</td>\n",
       "      <td>FR</td>\n",
       "      <td>42.80</td>\n",
       "      <td>fog</td>\n",
       "      <td>49.65</td>\n",
       "      <td>0.71</td>\n",
       "      <td>Le Manoir aux Vaches</td>\n",
       "    </tr>\n",
       "    <tr>\n",
       "      <td>38</td>\n",
       "      <td>60</td>\n",
       "      <td>Saint-Pierre</td>\n",
       "      <td>FR</td>\n",
       "      <td>37.99</td>\n",
       "      <td>light rain</td>\n",
       "      <td>48.95</td>\n",
       "      <td>4.24</td>\n",
       "      <td>Auberge des Moissons</td>\n",
       "    </tr>\n",
       "    <tr>\n",
       "      <td>108</td>\n",
       "      <td>157</td>\n",
       "      <td>Ronne</td>\n",
       "      <td>FR</td>\n",
       "      <td>46.40</td>\n",
       "      <td>drizzle</td>\n",
       "      <td>48.45</td>\n",
       "      <td>0.83</td>\n",
       "      <td>Côté Parc</td>\n",
       "    </tr>\n",
       "  </tbody>\n",
       "</table>\n",
       "</div>"
      ],
      "text/plain": [
       "     City_ID          City Country  Max Temp Current Description    Lat   Lng  \\\n",
       "7          8      Souillac      FR     48.20     overcast clouds  45.60 -0.60   \n",
       "32        50       Veraval      FR     42.80                 fog  49.65  0.71   \n",
       "38        60  Saint-Pierre      FR     37.99          light rain  48.95  4.24   \n",
       "108      157         Ronne      FR     46.40             drizzle  48.45  0.83   \n",
       "\n",
       "               Hotel Name  \n",
       "7               Jolysable  \n",
       "32   Le Manoir aux Vaches  \n",
       "38   Auberge des Moissons  \n",
       "108             Côté Parc  "
      ]
     },
     "execution_count": 33,
     "metadata": {},
     "output_type": "execute_result"
    }
   ],
   "source": [
    "cities_to_visit = [ \"Souillac\", \"Ronne\",\"Veraval\", \"Saint-Pierre\"]\n",
    "    \n",
    "CityDF = vacation_weather_df.loc[(vacation_weather_df[\"City\"] == cities_to_visit[0])  | (vacation_weather_df[\"City\"] == cities_to_visit[1]) | (vacation_weather_df[\"City\"] == cities_to_visit[2]) | (vacation_weather_df[\"City\"] == cities_to_visit[3])]\n",
    "\n",
    "CityDF\n",
    "\n",
    "#CityVacationDF = pd.DataFrame(CitiesArray)\n",
    "#CityVacationDF\n"
   ]
  },
  {
   "cell_type": "code",
   "execution_count": 34,
   "metadata": {},
   "outputs": [
    {
     "data": {
      "text/plain": [
       "4.24"
      ]
     },
     "execution_count": 34,
     "metadata": {},
     "output_type": "execute_result"
    }
   ],
   "source": [
    "\n",
    "latitudes = []\n",
    "longitudes = []\n",
    "\n",
    "# Iterate through the DataFrame.\n",
    "for index, row in CityDF.iterrows():\n",
    "    # Get the latitude and longitude.\n",
    "    lat= row[\"Lat\"]\n",
    "    lng= row[\"Lng\"]\n",
    "\n",
    "    latitudes.append(lat)\n",
    "    longitudes.append(lng)\n",
    "\n",
    "longitudes[2]\n",
    "\n"
   ]
  },
  {
   "cell_type": "code",
   "execution_count": 54,
   "metadata": {},
   "outputs": [
    {
     "data": {
      "application/vnd.jupyter.widget-view+json": {
       "model_id": "12a7214a486d4171b0ccc584a60e2b5e",
       "version_major": 2,
       "version_minor": 0
      },
      "text/plain": [
       "Figure(layout=FigureLayout(height='420px'))"
      ]
     },
     "metadata": {},
     "output_type": "display_data"
    }
   ],
   "source": [
    "import gmaps\n",
    "import gmaps.datasets\n",
    "gmaps.configure(api_key=g_key)\n",
    "\n",
    "# Latitude-longitude pairs\n",
    "Souillac = (latitudes[0],longitudes[0])\n",
    "Ronne = (latitudes[1],longitudes[1])\n",
    "\n",
    "Veraval = (latitudes[2],longitudes[2])\n",
    "\n",
    "SaintPierre = (latitudes[3],longitudes[3])\n",
    "\n",
    "fig = gmaps.figure()\n",
    "\n",
    "Souillac2SaintPierre_via_Ronne_via_Veraval = gmaps.directions_layer(\n",
    "        Souillac, Veraval, waypoints=[Ronne,SaintPierre],\n",
    "        travel_mode='DRIVING')\n",
    "fig.add_layer(Souillac2SaintPierre_via_Ronne_via_Veraval)\n",
    "fig\n"
   ]
  },
  {
   "cell_type": "code",
   "execution_count": 41,
   "metadata": {},
   "outputs": [],
   "source": [
    "info_box_template = \"\"\"\n",
    "<dl>\n",
    "<dt>Hotel Name</dt><dd>{Hotel Name}</dd>\n",
    "<dt>City</dt><dd>{City}</dd>\n",
    "<dt>Country</dt><dd>{Country}</dd>\n",
    "<dt>Current Weather</dt><dd>{Current Description} and {Max Temp} °F</dd>\n",
    "</dl>\n",
    "\"\"\""
   ]
  },
  {
   "cell_type": "code",
   "execution_count": 44,
   "metadata": {},
   "outputs": [],
   "source": [
    "\n",
    "# Store the DataFrame Row.\n",
    "hotel_info = [info_box_template.format(**row) for index, row in CityDF.iterrows()]"
   ]
  },
  {
   "cell_type": "code",
   "execution_count": 51,
   "metadata": {},
   "outputs": [
    {
     "data": {
      "application/vnd.jupyter.widget-view+json": {
       "model_id": "fb7e79ec10a9415e89f5aef17cdeb8fb",
       "version_major": 2,
       "version_minor": 0
      },
      "text/plain": [
       "Figure(layout=FigureLayout(height='420px'))"
      ]
     },
     "metadata": {},
     "output_type": "display_data"
    }
   ],
   "source": [
    "# Add a heatmap of temperature for the vacation spots and a pop-up marker for each city.\n",
    "locations = CityDF[[\"Lat\", \"Lng\"]]\n",
    "max_temp = CityDF[\"Max Temp\"]\n",
    "fig = gmaps.figure(center=(45.60, -0.60\t), zoom_level=5)\n",
    "marker_layer = gmaps.marker_layer(locations, info_box_content=hotel_info)\n",
    "fig.add_layer(marker_layer)\n",
    "\n",
    "#embed_minimal_html('export.html', views=[fig])\n",
    "\n",
    "# Save the figure.\n",
    "#fig.save(\"weather_data/Hotels.png\")\n",
    "\n",
    "# Call the figure to plot the data.\n",
    "fig\n"
   ]
  },
  {
   "cell_type": "code",
   "execution_count": null,
   "metadata": {},
   "outputs": [],
   "source": []
  }
 ],
 "metadata": {
  "file_extension": ".py",
  "kernelspec": {
   "display_name": "Python 3",
   "language": "python",
   "name": "python3"
  },
  "language_info": {
   "codemirror_mode": {
    "name": "ipython",
    "version": 3
   },
   "file_extension": ".py",
   "mimetype": "text/x-python",
   "name": "python",
   "nbconvert_exporter": "python",
   "pygments_lexer": "ipython3",
   "version": "3.7.4"
  },
  "mimetype": "text/x-python",
  "name": "python",
  "npconvert_exporter": "python",
  "pygments_lexer": "ipython3",
  "version": 3
 },
 "nbformat": 4,
 "nbformat_minor": 2
}
