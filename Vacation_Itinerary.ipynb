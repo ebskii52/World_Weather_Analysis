{
 "cells": [
  {
   "cell_type": "code",
   "execution_count": 8,
   "metadata": {},
   "outputs": [],
   "source": [
    "## Import the dependencies.\n",
    "import pandas as pd\n",
    "import gmaps\n",
    "import requests\n",
    "# Import the API key.\n",
    "from config import g_key\n"
   ]
  },
  {
   "cell_type": "code",
   "execution_count": 9,
   "metadata": {},
   "outputs": [
    {
     "data": {
      "text/html": [
       "<div>\n",
       "<style scoped>\n",
       "    .dataframe tbody tr th:only-of-type {\n",
       "        vertical-align: middle;\n",
       "    }\n",
       "\n",
       "    .dataframe tbody tr th {\n",
       "        vertical-align: top;\n",
       "    }\n",
       "\n",
       "    .dataframe thead th {\n",
       "        text-align: right;\n",
       "    }\n",
       "</style>\n",
       "<table border=\"1\" class=\"dataframe\">\n",
       "  <thead>\n",
       "    <tr style=\"text-align: right;\">\n",
       "      <th></th>\n",
       "      <th>City_ID</th>\n",
       "      <th>City</th>\n",
       "      <th>Country</th>\n",
       "      <th>Max Temp</th>\n",
       "      <th>Current Description</th>\n",
       "      <th>Lat</th>\n",
       "      <th>Lng</th>\n",
       "      <th>Hotel Name</th>\n",
       "    </tr>\n",
       "  </thead>\n",
       "  <tbody>\n",
       "    <tr>\n",
       "      <td>14</td>\n",
       "      <td>17</td>\n",
       "      <td>Souillac</td>\n",
       "      <td>FR</td>\n",
       "      <td>48.20</td>\n",
       "      <td>overcast clouds</td>\n",
       "      <td>45.60</td>\n",
       "      <td>-0.60</td>\n",
       "      <td>Jolysable</td>\n",
       "    </tr>\n",
       "    <tr>\n",
       "      <td>159</td>\n",
       "      <td>217</td>\n",
       "      <td>Saint-Pierre</td>\n",
       "      <td>FR</td>\n",
       "      <td>37.99</td>\n",
       "      <td>broken clouds</td>\n",
       "      <td>48.95</td>\n",
       "      <td>4.24</td>\n",
       "      <td>Auberge des Moissons</td>\n",
       "    </tr>\n",
       "    <tr>\n",
       "      <td>276</td>\n",
       "      <td>380</td>\n",
       "      <td>Royan</td>\n",
       "      <td>FR</td>\n",
       "      <td>48.20</td>\n",
       "      <td>overcast clouds</td>\n",
       "      <td>45.62</td>\n",
       "      <td>-1.03</td>\n",
       "      <td>Hôtel Cordouan Thalassothérapie et Spa</td>\n",
       "    </tr>\n",
       "    <tr>\n",
       "      <td>312</td>\n",
       "      <td>433</td>\n",
       "      <td>Dinard</td>\n",
       "      <td>FR</td>\n",
       "      <td>44.60</td>\n",
       "      <td>few clouds</td>\n",
       "      <td>48.63</td>\n",
       "      <td>-2.06</td>\n",
       "      <td>Hotel Thalassa Dinard</td>\n",
       "    </tr>\n",
       "  </tbody>\n",
       "</table>\n",
       "</div>"
      ],
      "text/plain": [
       "     City_ID          City Country  Max Temp Current Description    Lat   Lng  \\\n",
       "14        17      Souillac      FR     48.20     overcast clouds  45.60 -0.60   \n",
       "159      217  Saint-Pierre      FR     37.99       broken clouds  48.95  4.24   \n",
       "276      380         Royan      FR     48.20     overcast clouds  45.62 -1.03   \n",
       "312      433        Dinard      FR     44.60          few clouds  48.63 -2.06   \n",
       "\n",
       "                                 Hotel Name  \n",
       "14                                Jolysable  \n",
       "159                    Auberge des Moissons  \n",
       "276  Hôtel Cordouan Thalassothérapie et Spa  \n",
       "312                   Hotel Thalassa Dinard  "
      ]
     },
     "execution_count": 9,
     "metadata": {},
     "output_type": "execute_result"
    }
   ],
   "source": [
    "# Store the CSV you saved created in part one into a DataFrame.\n",
    "vacation_weather_df = pd.read_csv(\"data/WeatherPy_vacation.csv\")\n",
    "#vacation_weather_df.rename(columns={\"Rain Inches (last 3hours)\":\"RainInches\", \"Snow Inches (last 3hours)\":\"SnowInches\"}, inplace=True)\n",
    "vacation_weather_df[vacation_weather_df[\"Country\"] == \"FR\"].head(10)\n"
   ]
  },
  {
   "cell_type": "code",
   "execution_count": 10,
   "metadata": {},
   "outputs": [
    {
     "data": {
      "text/html": [
       "<div>\n",
       "<style scoped>\n",
       "    .dataframe tbody tr th:only-of-type {\n",
       "        vertical-align: middle;\n",
       "    }\n",
       "\n",
       "    .dataframe tbody tr th {\n",
       "        vertical-align: top;\n",
       "    }\n",
       "\n",
       "    .dataframe thead th {\n",
       "        text-align: right;\n",
       "    }\n",
       "</style>\n",
       "<table border=\"1\" class=\"dataframe\">\n",
       "  <thead>\n",
       "    <tr style=\"text-align: right;\">\n",
       "      <th></th>\n",
       "      <th>City_ID</th>\n",
       "      <th>City</th>\n",
       "      <th>Country</th>\n",
       "      <th>Max Temp</th>\n",
       "      <th>Current Description</th>\n",
       "      <th>Lat</th>\n",
       "      <th>Lng</th>\n",
       "      <th>Hotel Name</th>\n",
       "    </tr>\n",
       "  </thead>\n",
       "  <tbody>\n",
       "    <tr>\n",
       "      <td>14</td>\n",
       "      <td>17</td>\n",
       "      <td>Souillac</td>\n",
       "      <td>FR</td>\n",
       "      <td>48.20</td>\n",
       "      <td>overcast clouds</td>\n",
       "      <td>45.60</td>\n",
       "      <td>-0.60</td>\n",
       "      <td>Jolysable</td>\n",
       "    </tr>\n",
       "    <tr>\n",
       "      <td>159</td>\n",
       "      <td>217</td>\n",
       "      <td>Saint-Pierre</td>\n",
       "      <td>FR</td>\n",
       "      <td>37.99</td>\n",
       "      <td>broken clouds</td>\n",
       "      <td>48.95</td>\n",
       "      <td>4.24</td>\n",
       "      <td>Auberge des Moissons</td>\n",
       "    </tr>\n",
       "  </tbody>\n",
       "</table>\n",
       "</div>"
      ],
      "text/plain": [
       "     City_ID          City Country  Max Temp Current Description    Lat   Lng  \\\n",
       "14        17      Souillac      FR     48.20     overcast clouds  45.60 -0.60   \n",
       "159      217  Saint-Pierre      FR     37.99       broken clouds  48.95  4.24   \n",
       "\n",
       "               Hotel Name  \n",
       "14              Jolysable  \n",
       "159  Auberge des Moissons  "
      ]
     },
     "execution_count": 10,
     "metadata": {},
     "output_type": "execute_result"
    }
   ],
   "source": [
    "cities_to_visit = [ \"Souillac\", \"Ronne\",\"Veraval\", \"Saint-Pierre\"]\n",
    "    \n",
    "CityDF = vacation_weather_df.loc[(vacation_weather_df[\"City\"] == cities_to_visit[0])  | (vacation_weather_df[\"City\"] == cities_to_visit[1]) | (vacation_weather_df[\"City\"] == cities_to_visit[2]) | (vacation_weather_df[\"City\"] == cities_to_visit[3])]\n",
    "\n",
    "CityDF\n",
    "\n",
    "#CityVacationDF = pd.DataFrame(CitiesArray)\n",
    "#CityVacationDF\n"
   ]
  },
  {
   "cell_type": "code",
   "execution_count": 12,
   "metadata": {},
   "outputs": [],
   "source": [
    "\n",
    "latitudes = []\n",
    "longitudes = []\n",
    "\n",
    "# Iterate through the DataFrame.\n",
    "for index, row in CityDF.iterrows():\n",
    "    # Get the latitude and longitude.\n",
    "    lat= row[\"Lat\"]\n",
    "    lng= row[\"Lng\"]\n",
    "\n",
    "    latitudes.append(lat)\n",
    "    longitudes.append(lng)\n",
    "\n",
    "\n",
    "\n"
   ]
  },
  {
   "cell_type": "code",
   "execution_count": 13,
   "metadata": {},
   "outputs": [
    {
     "ename": "IndexError",
     "evalue": "list index out of range",
     "output_type": "error",
     "traceback": [
      "\u001b[1;31m---------------------------------------------------------------------------\u001b[0m",
      "\u001b[1;31mIndexError\u001b[0m                                Traceback (most recent call last)",
      "\u001b[1;32m<ipython-input-13-6e4380b7e507>\u001b[0m in \u001b[0;36m<module>\u001b[1;34m\u001b[0m\n\u001b[0;32m      7\u001b[0m \u001b[0mRonne\u001b[0m \u001b[1;33m=\u001b[0m \u001b[1;33m(\u001b[0m\u001b[0mlatitudes\u001b[0m\u001b[1;33m[\u001b[0m\u001b[1;36m1\u001b[0m\u001b[1;33m]\u001b[0m\u001b[1;33m,\u001b[0m\u001b[0mlongitudes\u001b[0m\u001b[1;33m[\u001b[0m\u001b[1;36m1\u001b[0m\u001b[1;33m]\u001b[0m\u001b[1;33m)\u001b[0m\u001b[1;33m\u001b[0m\u001b[1;33m\u001b[0m\u001b[0m\n\u001b[0;32m      8\u001b[0m \u001b[1;33m\u001b[0m\u001b[0m\n\u001b[1;32m----> 9\u001b[1;33m \u001b[0mVeraval\u001b[0m \u001b[1;33m=\u001b[0m \u001b[1;33m(\u001b[0m\u001b[0mlatitudes\u001b[0m\u001b[1;33m[\u001b[0m\u001b[1;36m2\u001b[0m\u001b[1;33m]\u001b[0m\u001b[1;33m,\u001b[0m\u001b[0mlongitudes\u001b[0m\u001b[1;33m[\u001b[0m\u001b[1;36m2\u001b[0m\u001b[1;33m]\u001b[0m\u001b[1;33m)\u001b[0m\u001b[1;33m\u001b[0m\u001b[1;33m\u001b[0m\u001b[0m\n\u001b[0m\u001b[0;32m     10\u001b[0m \u001b[1;33m\u001b[0m\u001b[0m\n\u001b[0;32m     11\u001b[0m \u001b[0mSaintPierre\u001b[0m \u001b[1;33m=\u001b[0m \u001b[1;33m(\u001b[0m\u001b[0mlatitudes\u001b[0m\u001b[1;33m[\u001b[0m\u001b[1;36m3\u001b[0m\u001b[1;33m]\u001b[0m\u001b[1;33m,\u001b[0m\u001b[0mlongitudes\u001b[0m\u001b[1;33m[\u001b[0m\u001b[1;36m3\u001b[0m\u001b[1;33m]\u001b[0m\u001b[1;33m)\u001b[0m\u001b[1;33m\u001b[0m\u001b[1;33m\u001b[0m\u001b[0m\n",
      "\u001b[1;31mIndexError\u001b[0m: list index out of range"
     ]
    }
   ],
   "source": [
    "import gmaps\n",
    "import gmaps.datasets\n",
    "gmaps.configure(api_key=g_key)\n",
    "\n",
    "# Latitude-longitude pairs\n",
    "Souillac = (latitudes[0],longitudes[0])\n",
    "Ronne = (latitudes[1],longitudes[1])\n",
    "\n",
    "Veraval = (latitudes[2],longitudes[2])\n",
    "\n",
    "SaintPierre = (latitudes[3],longitudes[3])\n",
    "\n",
    "fig = gmaps.figure()\n",
    "\n",
    "Souillac2SaintPierre_via_Ronne_via_Veraval = gmaps.directions_layer(\n",
    "        Souillac, Veraval, waypoints=[Ronne,SaintPierre],\n",
    "        travel_mode='DRIVING')\n",
    "fig.add_layer(Souillac2SaintPierre_via_Ronne_via_Veraval)\n",
    "fig\n"
   ]
  },
  {
   "cell_type": "code",
   "execution_count": 15,
   "metadata": {},
   "outputs": [],
   "source": [
    "info_box_template = \"\"\"\n",
    "<dl>\n",
    "<dt>Hotel Name</dt><dd>{Hotel Name}</dd>\n",
    "<dt>City</dt><dd>{City}</dd>\n",
    "<dt>Country</dt><dd>{Country}</dd>\n",
    "<dt>Current Weather</dt><dd>{Current Description} and {Max Temp} °F</dd>\n",
    "</dl>\n",
    "\"\"\""
   ]
  },
  {
   "cell_type": "code",
   "execution_count": 16,
   "metadata": {},
   "outputs": [],
   "source": [
    "\n",
    "# Store the DataFrame Row.\n",
    "hotel_info = [info_box_template.format(**row) for index, row in CityDF.iterrows()]"
   ]
  },
  {
   "cell_type": "code",
   "execution_count": 17,
   "metadata": {},
   "outputs": [
    {
     "data": {
      "application/vnd.jupyter.widget-view+json": {
       "model_id": "b9b0820864454a3e8f351284e40b79e9",
       "version_major": 2,
       "version_minor": 0
      },
      "text/plain": [
       "Figure(layout=FigureLayout(height='420px'))"
      ]
     },
     "metadata": {},
     "output_type": "display_data"
    }
   ],
   "source": [
    "# Add a heatmap of temperature for the vacation spots and a pop-up marker for each city.\n",
    "locations = CityDF[[\"Lat\", \"Lng\"]]\n",
    "max_temp = CityDF[\"Max Temp\"]\n",
    "fig = gmaps.figure(center=(45.60, -0.60\t), zoom_level=5)\n",
    "marker_layer = gmaps.marker_layer(locations, info_box_content=hotel_info)\n",
    "fig.add_layer(marker_layer)\n",
    "\n",
    "#embed_minimal_html('export.html', views=[fig])\n",
    "\n",
    "# Save the figure.\n",
    "#fig.save(\"weather_data/Hotels.png\")\n",
    "\n",
    "# Call the figure to plot the data.\n",
    "fig\n"
   ]
  },
  {
   "cell_type": "code",
   "execution_count": null,
   "metadata": {},
   "outputs": [],
   "source": []
  }
 ],
 "metadata": {
  "file_extension": ".py",
  "kernelspec": {
   "display_name": "Python 3",
   "language": "python",
   "name": "python3"
  },
  "language_info": {
   "codemirror_mode": {
    "name": "ipython",
    "version": 3
   },
   "file_extension": ".py",
   "mimetype": "text/x-python",
   "name": "python",
   "nbconvert_exporter": "python",
   "pygments_lexer": "ipython3",
   "version": "3.7.4"
  },
  "mimetype": "text/x-python",
  "name": "python",
  "npconvert_exporter": "python",
  "pygments_lexer": "ipython3",
  "version": 3
 },
 "nbformat": 4,
 "nbformat_minor": 2
}
